{
 "cells": [
  {
   "cell_type": "markdown",
   "id": "d1930d3a-576f-4a7f-815d-b8a477f867cf",
   "metadata": {},
   "source": [
    "Q1. create a pandas series that contains the following data : 4, 8,15,16,23, and 42 . then , print the series "
   ]
  },
  {
   "cell_type": "code",
   "execution_count": 6,
   "id": "d81b30f2-c125-4b5f-9850-c7ce92869798",
   "metadata": {},
   "outputs": [
    {
     "name": "stdout",
     "output_type": "stream",
     "text": [
      "0     4\n",
      "1     8\n",
      "2    15\n",
      "3    16\n",
      "4    23\n",
      "5    42\n",
      "dtype: int64\n"
     ]
    }
   ],
   "source": [
    "# solutin \n",
    "import pandas as pd\n",
    "data = [4,8,15,16,23,42]\n",
    "df = pd.Series(data)\n",
    "print(df)"
   ]
  },
  {
   "cell_type": "markdown",
   "id": "0e052260-ec1c-4446-b470-be13bdf6daba",
   "metadata": {},
   "source": [
    "Q2. Create a variable of  list type containing 10 elements in it, and apply pandas. Series function on the variable print it . "
   ]
  },
  {
   "cell_type": "code",
   "execution_count": 7,
   "id": "ce3a86f5-df08-4a3c-82ae-f7cc4b8011e6",
   "metadata": {},
   "outputs": [
    {
     "name": "stdout",
     "output_type": "stream",
     "text": [
      "0        1\n",
      "1       22\n",
      "2        4\n",
      "3    bhanu\n",
      "4    dangi\n",
      "5     True\n",
      "6      3.4\n",
      "7        3\n",
      "8        4\n",
      "9        5\n",
      "dtype: object\n"
     ]
    }
   ],
   "source": [
    "import pandas as pd \n",
    "# Create a list with 10 elements\n",
    "var = [1,22,4,\"bhanu\", \"dangi\", True,3.4, 3,4,5]\n",
    "# Create a pandas series from the list\n",
    "series = pd.Series(var)\n",
    "#Print the series\n",
    "print(series)\n"
   ]
  },
  {
   "cell_type": "markdown",
   "id": "65d5b036-6cef-4d4c-8cfb-c55d7f910c85",
   "metadata": {},
   "source": [
    "Q3 Create a pandas DataFrame that contains the following data:"
   ]
  },
  {
   "cell_type": "code",
   "execution_count": 14,
   "id": "d256892e-44af-41cc-a094-948c085581be",
   "metadata": {},
   "outputs": [
    {
     "data": {
      "text/html": [
       "<div>\n",
       "<style scoped>\n",
       "    .dataframe tbody tr th:only-of-type {\n",
       "        vertical-align: middle;\n",
       "    }\n",
       "\n",
       "    .dataframe tbody tr th {\n",
       "        vertical-align: top;\n",
       "    }\n",
       "\n",
       "    .dataframe thead th {\n",
       "        text-align: right;\n",
       "    }\n",
       "</style>\n",
       "<table border=\"1\" class=\"dataframe\">\n",
       "  <thead>\n",
       "    <tr style=\"text-align: right;\">\n",
       "      <th></th>\n",
       "      <th>name</th>\n",
       "      <th>age</th>\n",
       "      <th>Gender</th>\n",
       "    </tr>\n",
       "  </thead>\n",
       "  <tbody>\n",
       "    <tr>\n",
       "      <th>0</th>\n",
       "      <td>alice</td>\n",
       "      <td>25</td>\n",
       "      <td>Female</td>\n",
       "    </tr>\n",
       "    <tr>\n",
       "      <th>1</th>\n",
       "      <td>bo</td>\n",
       "      <td>30</td>\n",
       "      <td>Male</td>\n",
       "    </tr>\n",
       "    <tr>\n",
       "      <th>2</th>\n",
       "      <td>claire</td>\n",
       "      <td>27</td>\n",
       "      <td>Female</td>\n",
       "    </tr>\n",
       "  </tbody>\n",
       "</table>\n",
       "</div>"
      ],
      "text/plain": [
       "     name  age  Gender\n",
       "0   alice   25  Female\n",
       "1      bo   30    Male\n",
       "2  claire   27  Female"
      ]
     },
     "execution_count": 14,
     "metadata": {},
     "output_type": "execute_result"
    }
   ],
   "source": [
    "import pandas as pd \n",
    "#create the given data as a dictionary\n",
    "data = {\n",
    "        \"name\": [\"alice\" , \"bo\" , \"claire\"] , \n",
    "        \"age\" : [25,30,27],\n",
    "        \"Gender\":[\"Female\",\"Male\",\"Female\"]\n",
    "        }\n",
    "#creating the pandas dataframe from the dictionary \n",
    "dataframe = pd.DataFrame(data)\n",
    "# calling the created dataframe\n",
    "dataframe "
   ]
  },
  {
   "cell_type": "markdown",
   "id": "7dedb7f6-d207-4bd1-bc0f-d359d025a05a",
   "metadata": {},
   "source": [
    "Q4.what is \"DataFrame\" in pandas and how is it different from pandas.series ? expplain with an example"
   ]
  },
  {
   "cell_type": "raw",
   "id": "6ec17200-fb45-4b2d-a062-09821e6ae4c2",
   "metadata": {},
   "source": [
    "In pandas, a DataFrame is a two-dimensional data structure that represents a tabular, spreadsheet-like data with rows and columns. It can be thought of as a collection of pandas Series, where each Series represents a column of data.\n",
    "\n",
    "On the other hand, a pandas Series is a one-dimensional labeled array capable of holding data of any type (integer, string, float, etc.). It is like a single column of data and has an associated index, which provides labels for each element in the Series."
   ]
  },
  {
   "cell_type": "code",
   "execution_count": 16,
   "id": "90b31eee-3841-4c89-ba14-f4dcbacc1aed",
   "metadata": {},
   "outputs": [
    {
     "name": "stdout",
     "output_type": "stream",
     "text": [
      "Series:\n",
      "0    10\n",
      "1    20\n",
      "2    30\n",
      "3    40\n",
      "4    50\n",
      "dtype: int64\n"
     ]
    }
   ],
   "source": [
    "#series and dataframe example\n",
    "import pandas as pd\n",
    "\n",
    "# Example of creating a Series\n",
    "series_data = pd.Series([10, 20, 30, 40, 50])\n",
    "print(\"Series:\")\n",
    "print(series_data)"
   ]
  },
  {
   "cell_type": "code",
   "execution_count": 17,
   "id": "53caae16-6f26-4f71-899e-dce3463fdd49",
   "metadata": {},
   "outputs": [
    {
     "name": "stdout",
     "output_type": "stream",
     "text": [
      "\n",
      "DataFrame:\n",
      "      Name  Age      City\n",
      "0    Alice   25  New York\n",
      "1      Bob   30    London\n",
      "2  Charlie   22     Paris\n",
      "3    David   28     Tokyo\n",
      "4      Eve   35    Sydney\n"
     ]
    }
   ],
   "source": [
    "# Example of creating a DataFrame\n",
    "data = {\n",
    "    'Name': ['Alice', 'Bob', 'Charlie', 'David', 'Eve'],\n",
    "    'Age': [25, 30, 22, 28, 35],\n",
    "    'City': ['New York', 'London', 'Paris', 'Tokyo', 'Sydney']\n",
    "}\n",
    "\n",
    "df = pd.DataFrame(data)\n",
    "print(\"\\nDataFrame:\")\n",
    "print(df)\n"
   ]
  },
  {
   "cell_type": "markdown",
   "id": "5f60956d-1bb8-4282-9def-169afbf4ad11",
   "metadata": {},
   "source": [
    "Q5. What are some common functions you can use to manipulate data in a Pandas DataFrame? Can\n",
    "you give an example of when you might use one of these functions?"
   ]
  },
  {
   "cell_type": "raw",
   "id": "08536420-2d69-4dd9-b9b1-5330378479ca",
   "metadata": {},
   "source": [
    "Pandas provides a wide range of functions for data manipulation in a DataFrame. \n"
   ]
  },
  {
   "cell_type": "code",
   "execution_count": 18,
   "id": "2cabb702-9db3-4cb8-a893-1a72af450248",
   "metadata": {},
   "outputs": [
    {
     "name": "stdout",
     "output_type": "stream",
     "text": [
      "      Name  Age      City\n",
      "0    Alice   25  New York\n",
      "1      Bob   30    London\n",
      "2  Charlie   22     Paris\n",
      "    Name  Age    City\n",
      "3  David   28   Tokyo\n",
      "4    Eve   35  Sydney\n"
     ]
    }
   ],
   "source": [
    "#head() and tail()\n",
    "import pandas as pd\n",
    "\n",
    "# Create a sample DataFrame\n",
    "data = {'Name': ['Alice', 'Bob', 'Charlie', 'David', 'Eve'],\n",
    "        'Age': [25, 30, 22, 28, 35],\n",
    "        'City': ['New York', 'London', 'Paris', 'Tokyo', 'Sydney']}\n",
    "df = pd.DataFrame(data)\n",
    "\n",
    "# View the first few rows\n",
    "print(df.head(3))\n",
    "\n",
    "# View the last few rows\n",
    "print(df.tail(2))\n"
   ]
  },
  {
   "cell_type": "code",
   "execution_count": 19,
   "id": "895fb809-aa73-433a-b979-37088438fdf3",
   "metadata": {},
   "outputs": [
    {
     "name": "stdout",
     "output_type": "stream",
     "text": [
      "<class 'pandas.core.frame.DataFrame'>\n",
      "RangeIndex: 5 entries, 0 to 4\n",
      "Data columns (total 3 columns):\n",
      " #   Column  Non-Null Count  Dtype \n",
      "---  ------  --------------  ----- \n",
      " 0   Name    5 non-null      object\n",
      " 1   Age     5 non-null      int64 \n",
      " 2   City    5 non-null      object\n",
      "dtypes: int64(1), object(2)\n",
      "memory usage: 248.0+ bytes\n",
      "None\n"
     ]
    }
   ],
   "source": [
    "# info\n",
    "print(df.info())"
   ]
  },
  {
   "cell_type": "code",
   "execution_count": 20,
   "id": "a9d43b5b-05c7-4d3f-ac41-82c0c177dc6f",
   "metadata": {},
   "outputs": [
    {
     "data": {
      "text/html": [
       "<div>\n",
       "<style scoped>\n",
       "    .dataframe tbody tr th:only-of-type {\n",
       "        vertical-align: middle;\n",
       "    }\n",
       "\n",
       "    .dataframe tbody tr th {\n",
       "        vertical-align: top;\n",
       "    }\n",
       "\n",
       "    .dataframe thead th {\n",
       "        text-align: right;\n",
       "    }\n",
       "</style>\n",
       "<table border=\"1\" class=\"dataframe\">\n",
       "  <thead>\n",
       "    <tr style=\"text-align: right;\">\n",
       "      <th></th>\n",
       "      <th>Age</th>\n",
       "    </tr>\n",
       "  </thead>\n",
       "  <tbody>\n",
       "    <tr>\n",
       "      <th>count</th>\n",
       "      <td>5.000000</td>\n",
       "    </tr>\n",
       "    <tr>\n",
       "      <th>mean</th>\n",
       "      <td>28.000000</td>\n",
       "    </tr>\n",
       "    <tr>\n",
       "      <th>std</th>\n",
       "      <td>4.949747</td>\n",
       "    </tr>\n",
       "    <tr>\n",
       "      <th>min</th>\n",
       "      <td>22.000000</td>\n",
       "    </tr>\n",
       "    <tr>\n",
       "      <th>25%</th>\n",
       "      <td>25.000000</td>\n",
       "    </tr>\n",
       "    <tr>\n",
       "      <th>50%</th>\n",
       "      <td>28.000000</td>\n",
       "    </tr>\n",
       "    <tr>\n",
       "      <th>75%</th>\n",
       "      <td>30.000000</td>\n",
       "    </tr>\n",
       "    <tr>\n",
       "      <th>max</th>\n",
       "      <td>35.000000</td>\n",
       "    </tr>\n",
       "  </tbody>\n",
       "</table>\n",
       "</div>"
      ],
      "text/plain": [
       "             Age\n",
       "count   5.000000\n",
       "mean   28.000000\n",
       "std     4.949747\n",
       "min    22.000000\n",
       "25%    25.000000\n",
       "50%    28.000000\n",
       "75%    30.000000\n",
       "max    35.000000"
      ]
     },
     "execution_count": 20,
     "metadata": {},
     "output_type": "execute_result"
    }
   ],
   "source": [
    "#describe()\n",
    "df.describe()"
   ]
  },
  {
   "cell_type": "code",
   "execution_count": 22,
   "id": "619e70a7-d883-48f9-8967-86a995ec4ea8",
   "metadata": {},
   "outputs": [
    {
     "data": {
      "text/html": [
       "<div>\n",
       "<style scoped>\n",
       "    .dataframe tbody tr th:only-of-type {\n",
       "        vertical-align: middle;\n",
       "    }\n",
       "\n",
       "    .dataframe tbody tr th {\n",
       "        vertical-align: top;\n",
       "    }\n",
       "\n",
       "    .dataframe thead th {\n",
       "        text-align: right;\n",
       "    }\n",
       "</style>\n",
       "<table border=\"1\" class=\"dataframe\">\n",
       "  <thead>\n",
       "    <tr style=\"text-align: right;\">\n",
       "      <th></th>\n",
       "      <th>Name</th>\n",
       "      <th>Age</th>\n",
       "    </tr>\n",
       "  </thead>\n",
       "  <tbody>\n",
       "    <tr>\n",
       "      <th>0</th>\n",
       "      <td>Alice</td>\n",
       "      <td>25</td>\n",
       "    </tr>\n",
       "    <tr>\n",
       "      <th>1</th>\n",
       "      <td>Bob</td>\n",
       "      <td>30</td>\n",
       "    </tr>\n",
       "    <tr>\n",
       "      <th>2</th>\n",
       "      <td>Charlie</td>\n",
       "      <td>22</td>\n",
       "    </tr>\n",
       "    <tr>\n",
       "      <th>3</th>\n",
       "      <td>David</td>\n",
       "      <td>28</td>\n",
       "    </tr>\n",
       "    <tr>\n",
       "      <th>4</th>\n",
       "      <td>Eve</td>\n",
       "      <td>35</td>\n",
       "    </tr>\n",
       "  </tbody>\n",
       "</table>\n",
       "</div>"
      ],
      "text/plain": [
       "      Name  Age\n",
       "0    Alice   25\n",
       "1      Bob   30\n",
       "2  Charlie   22\n",
       "3    David   28\n",
       "4      Eve   35"
      ]
     },
     "execution_count": 22,
     "metadata": {},
     "output_type": "execute_result"
    }
   ],
   "source": [
    "#Drop a column\n",
    "df_dropped = df.drop(columns = \"City\")\n",
    "df_dropped"
   ]
  },
  {
   "cell_type": "code",
   "execution_count": 23,
   "id": "30c460c6-6508-4e1c-875a-054f7b3e5922",
   "metadata": {},
   "outputs": [
    {
     "data": {
      "text/html": [
       "<div>\n",
       "<style scoped>\n",
       "    .dataframe tbody tr th:only-of-type {\n",
       "        vertical-align: middle;\n",
       "    }\n",
       "\n",
       "    .dataframe tbody tr th {\n",
       "        vertical-align: top;\n",
       "    }\n",
       "\n",
       "    .dataframe thead th {\n",
       "        text-align: right;\n",
       "    }\n",
       "</style>\n",
       "<table border=\"1\" class=\"dataframe\">\n",
       "  <thead>\n",
       "    <tr style=\"text-align: right;\">\n",
       "      <th></th>\n",
       "      <th>Name</th>\n",
       "      <th>Age</th>\n",
       "      <th>City</th>\n",
       "    </tr>\n",
       "  </thead>\n",
       "  <tbody>\n",
       "    <tr>\n",
       "      <th>2</th>\n",
       "      <td>Charlie</td>\n",
       "      <td>22</td>\n",
       "      <td>Paris</td>\n",
       "    </tr>\n",
       "    <tr>\n",
       "      <th>0</th>\n",
       "      <td>Alice</td>\n",
       "      <td>25</td>\n",
       "      <td>New York</td>\n",
       "    </tr>\n",
       "    <tr>\n",
       "      <th>3</th>\n",
       "      <td>David</td>\n",
       "      <td>28</td>\n",
       "      <td>Tokyo</td>\n",
       "    </tr>\n",
       "    <tr>\n",
       "      <th>1</th>\n",
       "      <td>Bob</td>\n",
       "      <td>30</td>\n",
       "      <td>London</td>\n",
       "    </tr>\n",
       "    <tr>\n",
       "      <th>4</th>\n",
       "      <td>Eve</td>\n",
       "      <td>35</td>\n",
       "      <td>Sydney</td>\n",
       "    </tr>\n",
       "  </tbody>\n",
       "</table>\n",
       "</div>"
      ],
      "text/plain": [
       "      Name  Age      City\n",
       "2  Charlie   22     Paris\n",
       "0    Alice   25  New York\n",
       "3    David   28     Tokyo\n",
       "1      Bob   30    London\n",
       "4      Eve   35    Sydney"
      ]
     },
     "execution_count": 23,
     "metadata": {},
     "output_type": "execute_result"
    }
   ],
   "source": [
    "#sort by \"Age\" in ascending order\n",
    "df_sorted = df.sort_values(by=\"Age\")\n",
    "df_sorted"
   ]
  },
  {
   "cell_type": "code",
   "execution_count": 27,
   "id": "0b04aabc-028c-4c81-a79c-b30c14d90662",
   "metadata": {},
   "outputs": [
    {
     "data": {
      "text/plain": [
       "City\n",
       "London      30.0\n",
       "New York    25.0\n",
       "Paris       22.0\n",
       "Sydney      35.0\n",
       "Tokyo       28.0\n",
       "Name: Age, dtype: float64"
      ]
     },
     "execution_count": 27,
     "metadata": {},
     "output_type": "execute_result"
    }
   ],
   "source": [
    "#Group by \"City\" and calculate the average age for each city \n",
    "df_grouped = df.groupby(\"City\")[\"Age\"].mean()\n",
    "df_grouped "
   ]
  },
  {
   "cell_type": "code",
   "execution_count": 28,
   "id": "4f08f828-a4ba-48b5-aab3-d4432ca0373b",
   "metadata": {},
   "outputs": [
    {
     "name": "stdout",
     "output_type": "stream",
     "text": [
      "      Name  Age      City  Gender\n",
      "0    Alice   25  New York  Female\n",
      "1      Bob   30    London    Male\n",
      "2  Charlie   22     Paris    Male\n",
      "3    David   28     Tokyo    Male\n",
      "4      Eve   35    Sydney  Female\n"
     ]
    }
   ],
   "source": [
    "# Example of merging two DataFrames based on a common 'Name' column\n",
    "data_2 = {'Name': ['Alice', 'Bob', 'Charlie', 'David', 'Eve'],\n",
    "          'Gender': ['Female', 'Male', 'Male', 'Male', 'Female']}\n",
    "df_2 = pd.DataFrame(data_2)\n",
    "\n",
    "merged_df = df.merge(df_2, on='Name')\n",
    "print(merged_df)\n"
   ]
  },
  {
   "cell_type": "markdown",
   "id": "50076ab1-5d23-43fb-84d1-53b5ba9ee49b",
   "metadata": {},
   "source": [
    "Q6. Which of the following is mutable in nature Series, DataFrame, Panel?\n",
    "\n",
    "In pandas, both Series and DataFrame are mutable in nature, meaning you can modify their contents after creation. However, Panel is not mutable.\n",
    "\n",
    "Series: A pandas Series is mutable because you can change the values of individual elements using their index.\n",
    "\n",
    "DataFrame: A pandas DataFrame is mutable, and you can add, delete, or modify rows and columns, as well as change the values of individual elements within the DataFrame.\n",
    "\n",
    "Panel: Panels were used in older versions of pandas to represent three-dimensional data. However, they are deprecated, and it's recommended to use MultiIndex DataFrames or xarray for handling multi-dimensional data. Panels were not mutable and did not offer the same level of flexibility as Series and DataFrames.\n",
    "\n",
    "Since Panels are deprecated, and their use is discouraged, the focus should be on understanding the mutability of Series and DataFrame, which are the primary data structures for data manipulation in pandas."
   ]
  },
  {
   "cell_type": "markdown",
   "id": "f9c138ec-b837-4ef0-b2d3-9085eb11525c",
   "metadata": {},
   "source": [
    "\n",
    "Q7. Create a DataFrame using multiple Series. Explain with an example."
   ]
  },
  {
   "cell_type": "code",
   "execution_count": null,
   "id": "defd6eda-f0ee-48b1-8a62-b79526bc0028",
   "metadata": {},
   "outputs": [],
   "source": [
    "import pandas as pd\n",
    "\n",
    "# Create individual Series\n",
    "names = pd.Series(['Alice', 'Bob', 'Charlie', 'David', 'Eve'])\n",
    "ages = pd.Series([25, 30, 22, 28, 35])\n",
    "cities = pd.Series(['New York', 'London', 'Paris', 'Tokyo', 'Sydney'])\n",
    "\n",
    "# Combine the Series into a dictionary\n",
    "data = {\n",
    "    'Name': names,\n",
    "    'Age': ages,\n",
    "    'City': cities\n",
    "}\n",
    "\n",
    "# Create the DataFrame using the dictionary\n",
    "df = pd.DataFrame(data)\n",
    "\n",
    "# Print the DataFrame\n",
    "print(df)\n"
   ]
  }
 ],
 "metadata": {
  "kernelspec": {
   "display_name": "Python 3 (ipykernel)",
   "language": "python",
   "name": "python3"
  },
  "language_info": {
   "codemirror_mode": {
    "name": "ipython",
    "version": 3
   },
   "file_extension": ".py",
   "mimetype": "text/x-python",
   "name": "python",
   "nbconvert_exporter": "python",
   "pygments_lexer": "ipython3",
   "version": "3.10.8"
  }
 },
 "nbformat": 4,
 "nbformat_minor": 5
}
